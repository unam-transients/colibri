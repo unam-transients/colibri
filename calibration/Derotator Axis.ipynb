{
  "cells": [
    {
      "cell_type": "markdown",
      "metadata": {},
      "source": [
        "# Derotator Axis"
      ]
    },
    {
      "cell_type": "markdown",
      "metadata": {
        "id": "_P37sKCJEXUK"
      },
      "source": [
        "This notebook calculates the position of the derotator rotation axis in detector coordinates.\n",
        "\n",
        "First, take an image of perhaps 15 seconds of a star field. After the first 5 seconds, rotate the derotator with the hand paddle. This will give an image with two images of each star. To rotate the derotator in remote mode, use 6 on the hand controller and the up and down buttons.\n",
        "\n",
        "Second, measure the coordinates (x0, y0), and (x1, y1) of pairs of images with imexam. Always move from one image to the next in the same sense (e.g., the more counterclockwise image followed by the more clockwise image).\n",
        "\n",
        "Third, create the array \"data\" below containing [x0, y0, x1, y1] values.\n",
        "\n",
        "Finally, run the notebook. This will fit for the center and angle of rotation. Check the RMS and individual deviations. Remove bad data, and iterate as needed. \n",
        "\n",
        "The notebook also prints the derotator-centered windows for the TCS config file."
      ]
    },
    {
      "cell_type": "code",
      "execution_count": 6,
      "metadata": {
        "id": "7nLY2pn956MW"
      },
      "outputs": [],
      "source": [
        "data = [\n",
        "    # I think this data is from June 2024 with the OGSE\n",
        "    [ 1400.62, 3518.56,  427.29, 1695.39 ],\n",
        "    [  784.95, 2999.50,  833.85, 1000.66 ],\n",
        "    [ 1933.44,  990.66, 3009.39, 1790.85 ],\n",
        "#    [ 3217.29, 1411.64, 2812.86, 3125.63 ],\n",
        "    [ 1835.40,  555.63, 3421.12, 1619.99 ],\n",
        "#    [ 1854.16, 3185.49,  832.60, 2084.25 ],\n",
        "    [ 2331.88, 2317.47, 1769.46, 2408.31 ],\n",
        "    [ 2253.92, 1714.96, 2350.31, 2228.64 ],\n",
        "]\n",
        "\n",
        "data = [\n",
        "    # 20250920T043905C1o.fits\n",
        "    [ 2004.37, 2321.63, 2131.76, 2205.12 ],\n",
        "    [ 2005.05, 2082.50, 1895.42, 2168.23 ],\n",
        "    [ 2308.83, 2248.10, 2104.85, 1893.16 ],\n",
        "    [ 2287.41, 2247.97, 2101.46, 1914.31 ],\n",
        "    [ 2289.91, 1548.97, 1410.45, 1806.66 ],\n",
        "    [ 2039.92, 1442.91, 1268.00, 2037.81 ],\n",
        "    [ 1128.15, 2357.37, 2036.03, 3076.34 ],\n",
        "    [  972.46, 2224.17, 1881.00, 3210.03 ],\n",
        "    [ 2921.97, 2210.14, 2159.07, 1281.51 ],\n",
        "    [ 1796.54, 1042.85,  835.90, 2218.17 ],\n",
        "]"
      ]
    },
    {
      "cell_type": "code",
      "execution_count": 7,
      "metadata": {
        "colab": {
          "base_uri": "https://localhost:8080/"
        },
        "id": "VaZc0FWE_hce",
        "outputId": "a69d5a8a-413c-4c65-9103-82eb130d9005"
      },
      "outputs": [
        {
          "name": "stdout",
          "output_type": "stream",
          "text": [
            "  message: Desired error not necessarily achieved due to precision loss.\n",
            "  success: False\n",
            "   status: 2\n",
            "      fun: 0.28362049048335064\n",
            "        x: [ 2.000e+03  2.189e+03 -1.420e+00]\n",
            "      nit: 18\n",
            "      jac: [ 6.814e-06  1.144e-06  2.697e-04]\n",
            " hess_inv: [[ 1.299e+00  1.834e+00  9.896e-04]\n",
            "            [ 1.834e+00  3.006e+00  1.604e-03]\n",
            "            [ 9.896e-04  1.604e-03  1.902e-06]]\n",
            "     nfev: 312\n",
            "     njev: 75\n",
            "[ 2.00016951e+03  2.18917981e+03 -1.42024206e+00]\n",
            "2004.37 2321.63 2131.76 2205.12 2131.75 2204.89   +0.01   +0.23\n",
            "2005.05 2082.50 1895.42 2168.23 1895.43 2168.35   -0.01   -0.12\n",
            "2308.83 2248.10 2104.85 1893.16 2104.72 1892.85   +0.13   +0.31\n",
            "2287.41 2247.97 2101.46 1914.31 2101.38 1914.01   +0.08   +0.30\n",
            "2289.91 1548.97 1410.45 1806.66 1410.66 1806.69   -0.21   -0.03\n",
            "2039.92 1442.91 1268.00 2037.81 1268.30 2037.95   -0.30   -0.14\n",
            "1128.15 2357.37 2036.03 3076.34 2035.67 3076.56   +0.36   -0.22\n",
            " 972.46 2224.17 1881.00 3210.03 1880.62 3210.51   +0.38   -0.48\n",
            "2921.97 2210.14 2159.07 1281.51 2159.15 1280.95   -0.08   +0.56\n",
            "1796.54 1042.85  835.90 2218.17  836.27 2218.57   -0.37   -0.40\n",
            "rms = 0.28\n",
            "Center of rotation is (2000.2, 2189.2).\n"
          ]
        }
      ],
      "source": [
        "import math\n",
        "\n",
        "def rotate(x, y, xc, yc, theta):\n",
        "    dx = x - xc\n",
        "    dy = y - yc\n",
        "    newdx = dx * math.cos(theta) - dy * math.sin(theta)\n",
        "    newdy = dy * math.cos(theta) + dx * math.sin(theta)\n",
        "    newx = xc + newdx\n",
        "    newy = yc + newdy\n",
        "    return newx, newy\n",
        "\n",
        "def calcrms(args):\n",
        "    sumsq = 0\n",
        "    for x0, y0, x1, y1 in data:\n",
        "        modelx1, modely1 = rotate(x0, y0, *args)\n",
        "        dx = x1 - modelx1\n",
        "        dy = y1 - modely1\n",
        "        sumsq += dx * dx + dy * dy\n",
        "    rms = math.sqrt(sumsq / (2 * len(data)))\n",
        "    return rms\n",
        "\n",
        "def report(args):\n",
        "    sumsq = 0\n",
        "    for x0, y0, x1, y1 in data:\n",
        "        modelx1, modely1 = rotate(x0, y0, *args)\n",
        "        dx = x1 - modelx1\n",
        "        dy = y1 - modely1\n",
        "        print(\"%7.2f %7.2f %7.2f %7.2f %7.2f %7.2f %+7.2f %+7.2f\" % (x0, y0, x1, y1, modelx1, modely1, dx, dy))\n",
        "    print(\"rms = %.2f\" % calcrms(args))\n",
        "    \n",
        "import scipy.optimize\n",
        "\n",
        "res = scipy.optimize.minimize(calcrms, [2048, 2048, math.radians(65)])\n",
        "\n",
        "print(res)\n",
        "print(res.x)\n",
        "report(res.x)\n",
        "\n",
        "xc = res.x[0]\n",
        "yc = res.x[1]\n",
        "print(\"Center of rotation is (%.1f, %.1f).\" % (xc, yc))"
      ]
    },
    {
      "cell_type": "markdown",
      "metadata": {},
      "source": [
        "## Windows\n",
        "\n",
        "These are the derotator-centered windows for the TCS config file."
      ]
    },
    {
      "cell_type": "code",
      "execution_count": null,
      "metadata": {
        "colab": {
          "base_uri": "https://localhost:8080/"
        },
        "id": "8wybYX7BA6iQ",
        "outputId": "8dde1f22-911f-4633-9de1-a01538d30d92"
      },
      "outputs": [
        {
          "name": "stdout",
          "output_type": "stream",
          "text": [
            "\"derotator-256x256\": { \"sx\": 1874, \"sy\": 2069, \"nx\": 256, \"ny\": 256 }\n",
            "\"derotator-512x512\": { \"sx\": 1746, \"sy\": 1941, \"nx\": 512, \"ny\": 512 }\n",
            "\"derotator-1024x1024\": { \"sx\": 1490, \"sy\": 1685, \"nx\": 1024, \"ny\": 1024 }\n",
            "\"derotator-2048x2048\": { \"sx\": 978, \"sy\": 1173, \"nx\": 2048, \"ny\": 2048 }\n",
            "\"derotator-3072x3072\": { \"sx\": 466, \"sy\": 661, \"nx\": 3072, \"ny\": 3072 }\n"
          ]
        }
      ],
      "source": [
        "# These are the sx and sy values for the window with which the rotated images\n",
        "# were taken. The default 4kx4k window for DDRAGO has sx0 = 2 and sy0 = 8.\n",
        "\n",
        "sx0 = 2\n",
        "sy0 = 8\n",
        "\n",
        "for n in [256, 512, 1024, 2*1024, 3*1024]:\n",
        "    print(\"\\\"derotator-%dx%d\\\": { \\\"sx\\\": %.0f, \\\"sy\\\": %.0f, \\\"nx\\\": %.0f, \\\"ny\\\": %.0f }\" % (n, n, sx0 + xc - n / 2, sy0 + yc - n / 2, n, n))"
      ]
    },
    {
      "cell_type": "code",
      "execution_count": null,
      "metadata": {
        "id": "LZW_mdP0UAuO"
      },
      "outputs": [],
      "source": []
    }
  ],
  "metadata": {
    "colab": {
      "provenance": []
    },
    "kernelspec": {
      "display_name": "astronomy",
      "language": "python",
      "name": "python3"
    },
    "language_info": {
      "codemirror_mode": {
        "name": "ipython",
        "version": 3
      },
      "file_extension": ".py",
      "mimetype": "text/x-python",
      "name": "python",
      "nbconvert_exporter": "python",
      "pygments_lexer": "ipython3",
      "version": "3.13.2"
    }
  },
  "nbformat": 4,
  "nbformat_minor": 0
}
